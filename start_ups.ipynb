{
  "nbformat": 4,
  "nbformat_minor": 0,
  "metadata": {
    "colab": {
      "name": "start_ups",
      "private_outputs": true,
      "provenance": [],
      "authorship_tag": "ABX9TyNP6faXC6OgqDEw0SxGm9Xu",
      "include_colab_link": true
    },
    "kernelspec": {
      "name": "python3",
      "display_name": "Python 3"
    },
    "language_info": {
      "name": "python"
    }
  },
  "cells": [
    {
      "cell_type": "markdown",
      "metadata": {
        "id": "view-in-github",
        "colab_type": "text"
      },
      "source": [
        "<a href=\"https://colab.research.google.com/github/muyibigg/Git_project/blob/main/start_ups.ipynb\" target=\"_parent\"><img src=\"https://colab.research.google.com/assets/colab-badge.svg\" alt=\"Open In Colab\"/></a>"
      ]
    },
    {
      "cell_type": "code",
      "metadata": {
        "id": "ixcltoWoEZ0a"
      },
      "source": [
        "from google.colab import files\n",
        "uploaded = files.upload()"
      ],
      "execution_count": null,
      "outputs": []
    },
    {
      "cell_type": "code",
      "metadata": {
        "id": "5SsAGbY58sAa"
      },
      "source": [
        "import pandas as pd\n",
        "import numpy as np\n",
        "data = pd.read_csv('start_up.cv')\n",
        "data.head()"
      ],
      "execution_count": null,
      "outputs": []
    },
    {
      "cell_type": "markdown",
      "metadata": {
        "id": "_S_4_YMI24Cl"
      },
      "source": [
        "#Rearrange columns\n"
      ]
    },
    {
      "cell_type": "code",
      "metadata": {
        "id": "HWcmpZuOzjmP"
      },
      "source": [
        "cols = data.columns.tolist()\n"
      ],
      "execution_count": null,
      "outputs": []
    },
    {
      "cell_type": "code",
      "metadata": {
        "id": "RJsh_BWd0ZFP"
      },
      "source": [
        "cols"
      ],
      "execution_count": null,
      "outputs": []
    },
    {
      "cell_type": "code",
      "metadata": {
        "id": "YaoSLO8g0ewe"
      },
      "source": [
        "cols = cols[-1:] + cols[:-1]\n"
      ],
      "execution_count": null,
      "outputs": []
    },
    {
      "cell_type": "code",
      "metadata": {
        "id": "X3LnPX5x0q5B"
      },
      "source": [
        " data = data[cols]"
      ],
      "execution_count": null,
      "outputs": []
    },
    {
      "cell_type": "code",
      "metadata": {
        "id": "jlF5rOuW07sW"
      },
      "source": [
        "data.head()"
      ],
      "execution_count": null,
      "outputs": []
    },
    {
      "cell_type": "code",
      "metadata": {
        "id": "YbMNWnPGwDrP"
      },
      "source": [
        "#separate the other attributes from the predicting attribute\n",
        "x = data.drop('Profit',axis=1)\n",
        "#separte the predicting attribute into Y for model training \n",
        "y = ['profit']"
      ],
      "execution_count": null,
      "outputs": []
    },
    {
      "cell_type": "markdown",
      "metadata": {
        "id": "8DTEBNOOCCyG"
      },
      "source": [
        "Here you can see that there are 5 columns in the dataset where the state stores the categorical data points, and the rest are numerical features."
      ]
    },
    {
      "cell_type": "markdown",
      "metadata": {
        "id": "fzY9wBB0COYx"
      },
      "source": [
        "Now, we have to classify independent and dependent features\n",
        "#Independent and Dependent variables\n",
        "There are total 5 features in the dataset, in which basically profit is our dependent feature, and the rest of them are our independent features"
      ]
    },
    {
      "cell_type": "code",
      "metadata": {
        "id": "znMBmqTFkpOW"
      },
      "source": [
        "data.head()"
      ],
      "execution_count": null,
      "outputs": []
    },
    {
      "cell_type": "code",
      "metadata": {
        "id": "lg1Rak7lVGug"
      },
      "source": [
        "data.head()"
      ],
      "execution_count": null,
      "outputs": []
    },
    {
      "cell_type": "markdown",
      "metadata": {
        "id": "xVIU2LmSFxt8"
      },
      "source": [
        "#Handling categorical variables\n",
        "In our dataset, there is one categorical column State, we have to handle this categorical values present inside this column for that we will use pandas get_dummies() function:"
      ]
    },
    {
      "cell_type": "code",
      "metadata": {
        "id": "SmL7agOdFnYm"
      },
      "source": [
        "# handle categorical variable\n",
        "data=pd.get_dummies(data,columns=[\"State\"])"
      ],
      "execution_count": null,
      "outputs": []
    },
    {
      "cell_type": "code",
      "metadata": {
        "id": "af3K9NlonmcE"
      },
      "source": [
        "data.head()"
      ],
      "execution_count": null,
      "outputs": []
    },
    {
      "cell_type": "code",
      "metadata": {
        "id": "QmT1ugp9rVWJ"
      },
      "source": [
        ""
      ],
      "execution_count": null,
      "outputs": []
    },
    {
      "cell_type": "code",
      "metadata": {
        "id": "dQe8I17zZJPZ"
      },
      "source": [
        "##independent and dependent features\n",
        "x=data.iloc[:,1:]\n",
        "y=data.iloc[:,0]"
      ],
      "execution_count": null,
      "outputs": []
    },
    {
      "cell_type": "code",
      "metadata": {
        "id": "R0XaKplyQ5y_"
      },
      "source": [
        "x.head()"
      ],
      "execution_count": null,
      "outputs": []
    },
    {
      "cell_type": "code",
      "metadata": {
        "id": "SZWVHij8SylY"
      },
      "source": [
        "y.head()"
      ],
      "execution_count": null,
      "outputs": []
    },
    {
      "cell_type": "code",
      "metadata": {
        "id": "yDmV9VhmSUST"
      },
      "source": [
        "import seaborn as sns\n"
      ],
      "execution_count": null,
      "outputs": []
    },
    {
      "cell_type": "code",
      "metadata": {
        "id": "qojGpU2BS6v9"
      },
      "source": [
        "sns.pairplot(data)"
      ],
      "execution_count": null,
      "outputs": []
    },
    {
      "cell_type": "code",
      "metadata": {
        "id": "XqquVAkMTS14"
      },
      "source": [
        "import matplotlib.pyplot as plt\n",
        "%matplotlib inline"
      ],
      "execution_count": null,
      "outputs": []
    },
    {
      "cell_type": "code",
      "metadata": {
        "id": "B-FQ1B1xVgWd"
      },
      "source": [
        ""
      ],
      "execution_count": null,
      "outputs": []
    },
    {
      "cell_type": "code",
      "metadata": {
        "id": "3JU5o6wQVAQt"
      },
      "source": [
        "corrmat=data.corr()\n",
        "top_corr_features=corrmat.index\n",
        "plt.figure(figsize=(25,25))\n",
        "#plot heat map\n",
        "g=sns.heatmap(data[top_corr_features].corr(),annot=True,cmap=\"Greens\")"
      ],
      "execution_count": null,
      "outputs": []
    },
    {
      "cell_type": "markdown",
      "metadata": {
        "id": "GUO8CQKGVKU6"
      },
      "source": [
        "#Splitting Data\n",
        "Now, we have to split the data into training and testing parts for that we use the scikit-learn train_test_split() function"
      ]
    },
    {
      "cell_type": "code",
      "metadata": {
        "id": "HC8Q656tGzTM"
      },
      "source": [
        "# importing train_test_split from sklearn\n",
        "from sklearn.model_selection import train_test_split\n",
        "# splitting the data\n",
        "x_train,x_test,y_train,y_test=train_test_split(x,y,test_size=0.2, random_state = 42)"
      ],
      "execution_count": null,
      "outputs": []
    },
    {
      "cell_type": "markdown",
      "metadata": {
        "id": "0co2cTmqo9Be"
      },
      "source": [
        "#Applying model\n",
        "Now, we apply the linear regression model to our training data, first of all, we have to import linear regression from the scikit-learn library, there is no other library to implement multiple linear regression we do it with linear regression only."
      ]
    },
    {
      "cell_type": "code",
      "metadata": {
        "id": "KzhtpD18ljPS"
      },
      "source": [
        "# importing module\n",
        "from sklearn.linear_model import LinearRegression\n",
        "# creating an object of LinearRegression class\n",
        "LR = LinearRegression()\n",
        "# fitting the training data\n",
        "LR.fit(x_train,y_train)"
      ],
      "execution_count": null,
      "outputs": []
    },
    {
      "cell_type": "markdown",
      "metadata": {
        "id": "C5SNWdGb3WM_"
      },
      "source": [
        "finally, if we execute this then our model will be ready, now we have x_test data we use this data for the prediction of profit. "
      ]
    },
    {
      "cell_type": "code",
      "metadata": {
        "id": "WPhfAcAgpO50"
      },
      "source": [
        "y_prediction =  LR.predict(x_test)\n",
        "y_prediction"
      ],
      "execution_count": null,
      "outputs": []
    },
    {
      "cell_type": "markdown",
      "metadata": {
        "id": "0gmB9A_MM0nF"
      },
      "source": [
        "Now, we have to compare the y_prediction values with the original values because we have to calculate the accuracy of our model, which was implemented by a concept called r2_score. let’s discuss briefly on r2_score:"
      ]
    },
    {
      "cell_type": "code",
      "metadata": {
        "id": "u-a2xbKf3kbt"
      },
      "source": [
        "# importing r2_score module\n",
        "from sklearn.metrics import r2_score\n",
        "from sklearn.metrics import mean_squared_error\n",
        "# predicting the accuracy score\n",
        "score=r2_score(y_test,y_prediction)\n",
        "print('r2 socre' ,score)\n",
        "print('mean_sqrd_error is==',mean_squared_error(y_test,y_prediction))\n",
        "print('root_mean_squared error of is==',np.sqrt(mean_squared_error(y_test,y_prediction)))\n"
      ],
      "execution_count": null,
      "outputs": []
    },
    {
      "cell_type": "markdown",
      "metadata": {
        "id": "gL8ixWF4XzIU"
      },
      "source": [
        "You can see that the accuracy score is greater than 0.8 it means we can use this model to solve multiple linear regression, and also mean squared error rate is also low."
      ]
    },
    {
      "cell_type": "code",
      "metadata": {
        "id": "a91ZmU37WRxF"
      },
      "source": [
        "prediction=LR.predict(x_test)"
      ],
      "execution_count": null,
      "outputs": []
    },
    {
      "cell_type": "code",
      "metadata": {
        "id": "mr2k6rplWRj3"
      },
      "source": [
        ""
      ],
      "execution_count": null,
      "outputs": []
    },
    {
      "cell_type": "code",
      "metadata": {
        "id": "b94goCx2cXfH"
      },
      "source": [
        "plt.scatter(y_test,predictions)"
      ],
      "execution_count": null,
      "outputs": []
    },
    {
      "cell_type": "code",
      "metadata": {
        "id": "Et4jaA_8Wbbw"
      },
      "source": [
        ""
      ],
      "execution_count": null,
      "outputs": []
    }
  ]
}