{
  "nbformat": 4,
  "nbformat_minor": 0,
  "metadata": {
    "colab": {
      "name": "car_price",
      "private_outputs": true,
      "provenance": [],
      "authorship_tag": "ABX9TyNYWvRNce9vmcWEhCLTIkax",
      "include_colab_link": true
    },
    "kernelspec": {
      "name": "python3",
      "display_name": "Python 3"
    },
    "language_info": {
      "name": "python"
    }
  },
  "cells": [
    {
      "cell_type": "markdown",
      "metadata": {
        "id": "view-in-github",
        "colab_type": "text"
      },
      "source": [
        "<a href=\"https://colab.research.google.com/github/muyibigg/Git_project/blob/main/car_price.ipynb\" target=\"_parent\"><img src=\"https://colab.research.google.com/assets/colab-badge.svg\" alt=\"Open In Colab\"/></a>"
      ]
    },
    {
      "cell_type": "code",
      "metadata": {
        "id": "ixcltoWoEZ0a"
      },
      "source": [
        "from google.colab import files\n",
        "uploaded = files.upload()"
      ],
      "execution_count": null,
      "outputs": []
    },
    {
      "cell_type": "code",
      "metadata": {
        "id": "kchN8kYTEo0S"
      },
      "source": [
        "import pandas as pd\n",
        "import time\n",
        "data = pd.read_csv('car_ data.csv')\n",
        "data.head()"
      ],
      "execution_count": null,
      "outputs": []
    },
    {
      "cell_type": "markdown",
      "metadata": {
        "id": "7BK2jzzwHgWU"
      },
      "source": [
        "# .shape no of columns(features) and rows\n",
        "depended varaiable(feature) = output feature\n",
        "#categorical feature: fuel type, seller type, transmission, owner. we look the unique values in the categorecal features"
      ]
    },
    {
      "cell_type": "code",
      "metadata": {
        "id": "xh_Im6aLFFiZ"
      },
      "source": [
        "data.shape"
      ],
      "execution_count": null,
      "outputs": []
    },
    {
      "cell_type": "code",
      "metadata": {
        "id": "h3-C9kKsKNpY"
      },
      "source": [
        "print(data['Seller_Type'].unique())\n",
        "print(data['Transmission'].unique())\n",
        "print(data['Owner'].unique())\n",
        "print(data['Fuel_Type'].unique())"
      ],
      "execution_count": null,
      "outputs": []
    },
    {
      "cell_type": "code",
      "metadata": {
        "id": "gzsg7buSFx82"
      },
      "source": [
        "#check missing values or null values\n",
        "data.isnull().sum()"
      ],
      "execution_count": null,
      "outputs": []
    },
    {
      "cell_type": "markdown",
      "metadata": {
        "id": "lWCcHDiON1ZW"
      },
      "source": [
        "# the result shows no null values. because all the results are zero"
      ]
    },
    {
      "cell_type": "code",
      "metadata": {
        "id": "iVKHf4eHNHQt"
      },
      "source": [
        "#we want to see some of the details\n",
        "data.describe()"
      ],
      "execution_count": null,
      "outputs": []
    },
    {
      "cell_type": "markdown",
      "metadata": {
        "id": "Dlybx_wGPwLf"
      },
      "source": [
        ""
      ]
    },
    {
      "cell_type": "code",
      "metadata": {
        "id": "ljjYxvP1Sreb"
      },
      "source": [
        "# To check columns\n",
        "data.columns"
      ],
      "execution_count": null,
      "outputs": []
    },
    {
      "cell_type": "code",
      "metadata": {
        "id": "cDkMfbERPqwE"
      },
      "source": [
        "# to get the age of the car we use current year - the feature year.\n",
        "# we will also remove the car name feature, because it is not necessary to judge the selling price.\n",
        "\n",
        "final_data=data[['Year', 'Selling_Price', 'Present_Price', 'Kms_Driven', 'Fuel_Type', 'Seller_Type', 'Transmission', 'Owner']]\n",
        "\n"
      ],
      "execution_count": null,
      "outputs": []
    },
    {
      "cell_type": "code",
      "metadata": {
        "id": "vU57OmVchO6w"
      },
      "source": [
        "final_data.head()"
      ],
      "execution_count": null,
      "outputs": []
    },
    {
      "cell_type": "code",
      "metadata": {
        "id": "dsFTpikohrUq"
      },
      "source": [
        "# Creating a new feature\n",
        "final_data=data['Current_Year'] = 2021"
      ],
      "execution_count": null,
      "outputs": []
    },
    {
      "cell_type": "code",
      "metadata": {
        "id": "pLofUbXglPVr"
      },
      "source": [
        "final_data=data"
      ],
      "execution_count": null,
      "outputs": []
    },
    {
      "cell_type": "code",
      "metadata": {
        "id": "fGQUY3KzmCjA"
      },
      "source": [
        "final_data.head()"
      ],
      "execution_count": null,
      "outputs": []
    },
    {
      "cell_type": "code",
      "metadata": {
        "id": "ZGvMd3Ibwi5u"
      },
      "source": [
        "final_data.head()"
      ],
      "execution_count": null,
      "outputs": []
    },
    {
      "cell_type": "code",
      "metadata": {
        "id": "SxSOM7WAxGoI"
      },
      "source": [
        "final_data['no_year']=final_data['Current_Year']-final_data['Year']"
      ],
      "execution_count": null,
      "outputs": []
    },
    {
      "cell_type": "code",
      "metadata": {
        "id": "eUBsDUZEIe9d"
      },
      "source": [
        "final_data.head()"
      ],
      "execution_count": null,
      "outputs": []
    },
    {
      "cell_type": "code",
      "metadata": {
        "id": "9Ecm2LZYJpg9"
      },
      "source": [
        "final_data.drop(['Year'],axis=1, inplace=True)"
      ],
      "execution_count": null,
      "outputs": []
    },
    {
      "cell_type": "code",
      "metadata": {
        "id": "ewpFBmYsM7Dj"
      },
      "source": [
        "final_data.head()"
      ],
      "execution_count": null,
      "outputs": []
    },
    {
      "cell_type": "markdown",
      "metadata": {
        "id": "7c6MTM04pBSd"
      },
      "source": [
        "#These changes will not take place in actual data unless we specify inplace=True as a parameter in the drop( ) function\n",
        "Here axis= 1 specifies that column is to be dropped"
      ]
    },
    {
      "cell_type": "code",
      "metadata": {
        "id": "V4-wxjAANnXS"
      },
      "source": [
        "final_data.drop(['Current_Year'],axis=1, inplace=True)"
      ],
      "execution_count": null,
      "outputs": []
    },
    {
      "cell_type": "code",
      "metadata": {
        "id": "BN71dpNtNtwQ"
      },
      "source": [
        "final_data.head()"
      ],
      "execution_count": null,
      "outputs": []
    },
    {
      "cell_type": "code",
      "metadata": {
        "id": "GsG1R8JoN6uf"
      },
      "source": [
        "final_data=pd.get_dummies(final_data,drop_first=True)"
      ],
      "execution_count": null,
      "outputs": []
    },
    {
      "cell_type": "code",
      "metadata": {
        "id": "2C2KszPHQwX2"
      },
      "source": [
        "final_data.head()"
      ],
      "execution_count": null,
      "outputs": []
    },
    {
      "cell_type": "code",
      "metadata": {
        "id": "lVGdVRA9Q8yn"
      },
      "source": [
        "final_data.corr()"
      ],
      "execution_count": null,
      "outputs": []
    },
    {
      "cell_type": "code",
      "metadata": {
        "id": "yDmV9VhmSUST"
      },
      "source": [
        "import seaborn as sns\n"
      ],
      "execution_count": null,
      "outputs": []
    },
    {
      "cell_type": "code",
      "metadata": {
        "id": "qojGpU2BS6v9"
      },
      "source": [
        "sns.pairplot(final_data)"
      ],
      "execution_count": null,
      "outputs": []
    },
    {
      "cell_type": "code",
      "metadata": {
        "id": "XqquVAkMTS14"
      },
      "source": [
        "import matplotlib.pyplot as plt\n",
        "%matplotlib inline"
      ],
      "execution_count": null,
      "outputs": []
    },
    {
      "cell_type": "code",
      "metadata": {
        "id": "3JU5o6wQVAQt"
      },
      "source": [
        "corrmat=final_data.corr()\n",
        "top_corr_features=corrmat.index\n",
        "plt.figure(figsize=(25,25))\n",
        "#plot heat map\n",
        "g=sns.heatmap(final_data[top_corr_features].corr(),annot=True,cmap=\"Greens\")"
      ],
      "execution_count": null,
      "outputs": []
    },
    {
      "cell_type": "code",
      "metadata": {
        "id": "GxEC8muCVpLA"
      },
      "source": [
        "final_data.head()"
      ],
      "execution_count": null,
      "outputs": []
    },
    {
      "cell_type": "code",
      "metadata": {
        "id": "dQe8I17zZJPZ"
      },
      "source": [
        "##independent and dependent variables\n",
        "X=final_data.iloc[:,1:]\n",
        "Y=final_data.iloc[:,0]\n",
        "\n"
      ],
      "execution_count": null,
      "outputs": []
    },
    {
      "cell_type": "code",
      "metadata": {
        "id": "k5Cwq_jEaVPp"
      },
      "source": [
        "X.head()"
      ],
      "execution_count": null,
      "outputs": []
    },
    {
      "cell_type": "code",
      "metadata": {
        "id": "EmeRHHaQar4U"
      },
      "source": [
        "Y.head()"
      ],
      "execution_count": null,
      "outputs": []
    },
    {
      "cell_type": "code",
      "metadata": {
        "id": "Jj_874lCavRK"
      },
      "source": [
        "###Feature importance\n",
        "from sklearn.ensemble import ExtraTreesRegressor\n",
        "model=ExtraTreesRegressor()\n",
        "model.fit(X,Y)"
      ],
      "execution_count": null,
      "outputs": []
    },
    {
      "cell_type": "code",
      "metadata": {
        "id": "mGaEQjJdc4iW"
      },
      "source": [
        "print(model.feature_importances_)"
      ],
      "execution_count": null,
      "outputs": []
    },
    {
      "cell_type": "code",
      "metadata": {
        "id": "9g0jAeXadToB"
      },
      "source": [
        "#plot graph of feature importance for better visualization\n",
        "feat_importances = pd.Series(model.feature_importances_, index=X.columns)\n",
        "feat_importances.nlargest(5).plot(kind='bar')\n",
        "plt.show()"
      ],
      "execution_count": null,
      "outputs": []
    },
    {
      "cell_type": "code",
      "metadata": {
        "id": "oEMGI-OCfbaT"
      },
      "source": [
        "from sklearn.model_selection import train_test_split\n",
        "X_train,X_test,Y_train,Y_test=train_test_split(X,Y,test_size=0.2)"
      ],
      "execution_count": null,
      "outputs": []
    },
    {
      "cell_type": "code",
      "metadata": {
        "id": "lCbsQPNxhAMi"
      },
      "source": [
        "X_train.shape"
      ],
      "execution_count": null,
      "outputs": []
    },
    {
      "cell_type": "code",
      "metadata": {
        "id": "UlmQ4kGGhAi7"
      },
      "source": [
        "from sklearn.ensemble import RandomForestRegressor\n",
        "rf_random=RandomForestRegressor()"
      ],
      "execution_count": null,
      "outputs": []
    },
    {
      "cell_type": "code",
      "metadata": {
        "id": "6nSNznI9kZx-"
      },
      "source": [
        "###Hyperparameter\n",
        "import numpy as np\n",
        "n_estimators = [int(x) for x in np.linspace(start = 100, stop =1200, num = 12)]\n",
        "print(n_estimators)"
      ],
      "execution_count": null,
      "outputs": []
    },
    {
      "cell_type": "code",
      "metadata": {
        "id": "qDyQFutGDmRX"
      },
      "source": [
        "#Randomized Search CV\n",
        "\n",
        "\n",
        "# Number of trees in random forest\n",
        "n_estimators = [int(x) for x in np.linspace(start = 100, stop = 1200, num = 12)]\n",
        "# Number of features to consider at every split\n",
        "max_features = ['auto', 'sqrt']\n",
        "# maximum number of levels in tree\n",
        "max_depth = [int(x) for x in np.linspace(5, 30, num = 6)]\n",
        "#max_depth.append(None)\n",
        "#Minimum number of samples required to split a node\n",
        "min_samples_leaf = [1, 2, 5, 10]"
      ],
      "execution_count": null,
      "outputs": []
    },
    {
      "cell_type": "code",
      "metadata": {
        "id": "6f1VJJIsOj38"
      },
      "source": [
        "#Create the random grid\n",
        "random_grid = {'n_estimators': n_estimators,\n",
        "               'max_features': max_features,\n",
        "                'max_depth': max_depth,\n",
        "                 'min_samples_split' : min_samples_leaf}\n",
        "\n",
        "print(random_grid)"
      ],
      "execution_count": null,
      "outputs": []
    },
    {
      "cell_type": "code",
      "metadata": {
        "id": "Q2Js1JPvRK29"
      },
      "source": [
        "from sklearn. model_selection import RandomizedSearchCV\n",
        "# use the random grid to search for best hyperparameter\n",
        "# First create the base model\n",
        "rf = RandomForestRegressor()\n",
        "\n"
      ],
      "execution_count": null,
      "outputs": []
    },
    {
      "cell_type": "code",
      "metadata": {
        "id": "H0fUxsYLPX18"
      },
      "source": [
        "rf_random = RandomizedSearchCV(estimator = rf, param_distributions = random_grid, scoring='neg_mean_squared_error', n_iter = 10, cv = 5, verbose =2, random_state=42, n_jobs = 1)"
      ],
      "execution_count": null,
      "outputs": []
    },
    {
      "cell_type": "code",
      "metadata": {
        "id": "01nG7NcsTF-P"
      },
      "source": [
        "rf_random.fit(X_train,Y_train)"
      ],
      "execution_count": null,
      "outputs": []
    },
    {
      "cell_type": "code",
      "metadata": {
        "id": "a91ZmU37WRxF"
      },
      "source": [
        "predictions=rf_random.predict(X_test)"
      ],
      "execution_count": null,
      "outputs": []
    },
    {
      "cell_type": "code",
      "metadata": {
        "id": "6JpI3cOubOXx"
      },
      "source": [
        "predictions"
      ],
      "execution_count": null,
      "outputs": []
    },
    {
      "cell_type": "code",
      "metadata": {
        "id": "XAqepS62bRvd"
      },
      "source": [
        "sns.distplot(Y_test - predictions)"
      ],
      "execution_count": null,
      "outputs": []
    },
    {
      "cell_type": "code",
      "metadata": {
        "id": "b94goCx2cXfH"
      },
      "source": [
        "plt.scatter(Y_test,predictions)"
      ],
      "execution_count": null,
      "outputs": []
    },
    {
      "cell_type": "code",
      "metadata": {
        "id": "c7Ooj-S1egaw"
      },
      "source": [
        "import pickle\n",
        "# open a file, where you want to store the data\n",
        "file = open('random_forest_regression_model.pkl', 'wb')\n",
        "\n",
        "# dump information to that file\n",
        "pickle.dump(rf_random, file)"
      ],
      "execution_count": null,
      "outputs": []
    },
    {
      "cell_type": "code",
      "metadata": {
        "id": "dVgcNVbJhYUV"
      },
      "source": [
        ""
      ],
      "execution_count": null,
      "outputs": []
    }
  ]
}